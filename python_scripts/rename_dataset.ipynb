{
 "cells": [
  {
   "cell_type": "code",
   "execution_count": 1,
   "metadata": {},
   "outputs": [],
   "source": [
    "# Goal of this script:\n",
    "#   Rename subdirs (color, grayscale, segmented) & sub subdirs (plant diseases) to lowercase\n",
    "#   Rename image files in a sequential order in each sub subdir\n",
    "#   Measure & print time statistics (how long script took to run)\n",
    "\n",
    "\n",
    "# Import required modules\n",
    "import os\n",
    "from pathlib import Path\n",
    "import time\n",
    "# import sys\n",
    "# import importlib\n",
    "# importlib.reload(rename_utils)  # ensure re-importing\n",
    "\n",
    "# Import custom functions\n",
    "from rename_dataset_utils import*"
   ]
  },
  {
   "cell_type": "code",
   "execution_count": null,
   "metadata": {},
   "outputs": [],
   "source": [
    "# FUNCTIONS\n"
   ]
  },
  {
   "cell_type": "code",
   "execution_count": null,
   "metadata": {},
   "outputs": [],
   "source": [
    "# Specify the path to the directory with subdirs of raw data (color, grayscale, segmented)\n",
    "current_dir = Path.cwd()\n",
    "print(f'Current Working Directory: \"{current_dir}\"')\n",
    "\n",
    "# Specify root dir path and check if it exists\n",
    "root_dir = current_dir.parent / 'PlantVillage-Dataset' / 'Original'\n",
    "if not os.path.exists(root_dir):\n",
    "    raise FileNotFoundError(f'FAILED:  Root dir path does not exist: \"{root_dir}\"')\n",
    "    # print(f'Root dir path does not exist: \"{root_dir}\"')\n",
    "    # sys.exit()\n",
    "print(f'Root dir path set: \"{root_dir}\"')\n",
    "\n",
    "# Get list of subdirs in root dir (folders & files)\n",
    "# subdirs = os.listdir(root_dir)\n",
    "subdirs = [subdir for subdir in os.listdir(root_dir) if os.path.isdir(os.path.join(root_dir, subdir))]\n",
    "print(f'Available subdirs: {subdirs}\\n')\n",
    "\n",
    "# Check if only subdirs of raw data (color, grayscale, segmented) exist\n",
    "# Checks for folders & files\n",
    "if [item.lower() for item in subdirs] != ['color', 'grayscale', 'segmented']:\n",
    "    raise ValueError('FAILED:  Directory does not contain only subdirs (color, grayscale, segmented)')\n",
    "    # print('Directory does not contain only subdirs (color, grayscale, segmented)')\n",
    "    # sys.exit()\n",
    "\n",
    "# Rename subdirs to lowercase if necessary\n",
    "rename_subdirs_to_lowercase(root_dir)\n",
    "print()\n",
    "\n",
    "# subdirs = os.listdir(root_dir)\n",
    "subdirs = [subdir for subdir in os.listdir(root_dir) if os.path.isdir(os.path.join(root_dir, subdir))]\n",
    "for subdir in subdirs:\n",
    "    subdir_path = os.path.join(root_dir, subdir)\n",
    "    print(f'Subdir path set: \"{subdir_path}\"')\n",
    "\n",
    "    # Rename sub subdirs to lowercase if necessary\n",
    "    rename_subdirs_to_lowercase(subdir_path)\n",
    "    print()\n",
    "\n",
    "    # sub_subdirs = os.listdir(subdir_path)\n",
    "    sub_subdirs = [subdir for subdir in os.listdir(subdir_path) if os.path.isdir(os.path.join(subdir_path, subdir))]\n",
    "    for sub_subdir in sub_subdirs:\n",
    "        sub_subdir_path = os.path.join(subdir_path, sub_subdir)\n",
    "        print(f'Sub subdir path set: \"{sub_subdir_path}\"')\n",
    "\n",
    "        # Rename all img files with subdir and sub subdir names & counter in lowercase\n",
    "        rename_img_files_in_order(sub_subdir_path, subdir, sub_subdir)\n",
    "\n",
    "    print()\n"
   ]
  }
 ],
 "metadata": {
  "kernelspec": {
   "display_name": "py3env",
   "language": "python",
   "name": "python3"
  },
  "language_info": {
   "codemirror_mode": {
    "name": "ipython",
    "version": 3
   },
   "file_extension": ".py",
   "mimetype": "text/x-python",
   "name": "python",
   "nbconvert_exporter": "python",
   "pygments_lexer": "ipython3",
   "version": "3.12.3"
  }
 },
 "nbformat": 4,
 "nbformat_minor": 2
}
