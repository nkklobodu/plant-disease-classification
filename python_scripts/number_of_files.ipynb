{
 "cells": [
  {
   "cell_type": "code",
   "execution_count": 4,
   "metadata": {},
   "outputs": [],
   "source": [
    "import os\n",
    "from pathlib import Path"
   ]
  },
  {
   "cell_type": "code",
   "execution_count": 5,
   "metadata": {},
   "outputs": [],
   "source": [
    "# FUNCTIONS\n"
   ]
  },
  {
   "cell_type": "code",
   "execution_count": null,
   "metadata": {},
   "outputs": [],
   "source": [
    "current_dir = Path.cwd()\n",
    "print(f'Current Working Directory: \"{current_dir}\"')\n",
    "\n",
    "# Specify the specific image type(color, grayscale, segmented) dir path and check if it exists\n",
    "type_of_img_path = current_dir.parent / 'PlantVillage-Dataset' / 'Original' / 'segmented'\n",
    "if not os.path.exists(type_of_img_path):\n",
    "    raise FileNotFoundError(f'FAILED:  Image type dir path does not exist: \"{type_of_img_path}\"')\n",
    "print(f'Image type dir path set: \"{type_of_img_path}\"')\n",
    "print()"
   ]
  },
  {
   "cell_type": "code",
   "execution_count": null,
   "metadata": {},
   "outputs": [],
   "source": [
    "plant_disease_dirs = [disease_dir for disease_dir in os.listdir(type_of_img_path) if os.path.isdir(type_of_img_path / disease_dir)]\n",
    "\n",
    "# Longest plant disease name length\n",
    "longest_plant_disease_name_lenght = len(max(plant_disease_dirs, key=len))\n",
    "\n",
    "# Iterate throught the plant disease directories and count the number of images in each\n",
    "# Then display the min, max, and average number of images per plant disease\n",
    "total_images = 0\n",
    "min_images = float('inf')\n",
    "max_images = float('-inf')\n",
    "\n",
    "print(f'{\"PLANT DISEASE\".ljust(longest_plant_disease_name_lenght)}  ->  NUMBER OF IMAGES')\n",
    "\n",
    "for plant_disease_dir in plant_disease_dirs:\n",
    "    plant_disease_dir_path = type_of_img_path / plant_disease_dir\n",
    "    num_images = len([img for img in os.listdir(plant_disease_dir_path) if img.lower().endswith('.jpg')])\n",
    "    print(f'{plant_disease_dir.ljust(longest_plant_disease_name_lenght)}  ->  {num_images} images')\n",
    "    total_images += num_images\n",
    "    min_images = min(min_images, num_images)\n",
    "    max_images = max(max_images, num_images)\n",
    "\n",
    "print()\n",
    "print(f'Min: {min_images}')\n",
    "print(f'Max: {max_images}')\n",
    "print(f'Avg: {total_images / len(plant_disease_dirs):.2f}')\n",
    "\n",
    "    "
   ]
  }
 ],
 "metadata": {
  "kernelspec": {
   "display_name": "py3env",
   "language": "python",
   "name": "python3"
  },
  "language_info": {
   "codemirror_mode": {
    "name": "ipython",
    "version": 3
   },
   "file_extension": ".py",
   "mimetype": "text/x-python",
   "name": "python",
   "nbconvert_exporter": "python",
   "pygments_lexer": "ipython3",
   "version": "3.12.3"
  }
 },
 "nbformat": 4,
 "nbformat_minor": 2
}
